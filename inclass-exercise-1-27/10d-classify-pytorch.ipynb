{
 "cells": [
  {
   "cell_type": "code",
   "execution_count": 2,
   "metadata": {},
   "outputs": [],
   "source": [
    "import numpy as np\n",
    "import matplotlib.pyplot as plt\n",
    "import torch.nn as nn\n",
    "import torch.optim as optim"
   ]
  },
  {
   "cell_type": "code",
   "execution_count": null,
   "metadata": {},
   "outputs": [],
   "source": [
    "mean_1 = np.ones(10)*0.5\n",
    "mean_2 = np.zeros(10) \n",
    "num_samples = 10000\n",
    "num_test= 2000\n",
    "\n",
    "COV = np.diag(np.ones(10))\n",
    "print(COV)\n",
    "\n",
    "\n",
    "sample_1 = np.random.multivariate_normal(mean=mean_1,cov=COV,size=num_samples)\n",
    "sample_2=np.random.multivariate_normal(mean=mean_2,cov=COV,size=num_samples)\n",
    "\n",
    "test_1 = np.random.multivariate_normal(mean=mean_1,cov=COV,size=num_test)\n",
    "test_2 = np.random.multivariate_normal(mean=mean_2,cov=COV,size=num_test)"
   ]
  },
  {
   "cell_type": "code",
   "execution_count": null,
   "metadata": {},
   "outputs": [],
   "source": [
    "class LogisticRegression(nn.Module):\n",
    "    def __init__(self, n_inputs, n_outputs): \n",
    "        super(LogisticRegression, self).__init__()\n",
    "        self.linear = nn.Linear(n_inputs, n_outputs)\n",
    "    def forward(self, x): \n",
    "        return nn.Sigmoid(self.linear(x))\n",
    "\n",
    "\n",
    "        "
   ]
  }
 ],
 "metadata": {
  "kernelspec": {
   "display_name": "Python 3",
   "language": "python",
   "name": "python3"
  },
  "language_info": {
   "codemirror_mode": {
    "name": "ipython",
    "version": 3
   },
   "file_extension": ".py",
   "mimetype": "text/x-python",
   "name": "python",
   "nbconvert_exporter": "python",
   "pygments_lexer": "ipython3",
   "version": "3.11.9"
  }
 },
 "nbformat": 4,
 "nbformat_minor": 2
}
