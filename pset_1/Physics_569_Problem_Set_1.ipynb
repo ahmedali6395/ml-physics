{
  "cells": [
    {
      "cell_type": "markdown",
      "metadata": {},
      "source": [
        "Problem Set 1\n",
        "============="
      ]
    },
    {
      "cell_type": "code",
      "execution_count": null,
      "metadata": {
        "id": "mLltEehemHyv"
      },
      "outputs": [],
      "source": [
        "import numpy as np\n",
        "import matplotlib.pyplot as plt\n",
        "import os\n",
        "import torch\n",
        "from torch.utils.data import DataLoader, TensorDataset\n",
        "from sklearn.metrics import roc_curve as roc \n",
        "from sklearn.metrics import auc\n",
        "from scipy.stats import multivariate_normal\n",
        "plt.rcParams.update({\n",
        "    \"text.usetex\": True\n",
        "})"
      ]
    },
    {
      "cell_type": "markdown",
      "metadata": {
        "id": "fMdrnsMFp4ra"
      },
      "source": [
        "# Problem 1: Binary classification in a Gaussian toy model\n"
      ]
    },
    {
      "cell_type": "markdown",
      "metadata": {
        "id": "53fk2y5GmNB1"
      },
      "source": [
        "Consider data generated from two different 10d Gaussians:"
      ]
    },
    {
      "cell_type": "code",
      "execution_count": 438,
      "metadata": {
        "id": "3h7fhY8QmdmU"
      },
      "outputs": [],
      "source": [
        "num_samples = 10000\n",
        "signal=np.random.normal(size=(num_samples,10),loc=0.5)\n",
        "background=np.random.normal(size=(num_samples,10),loc=0)\n",
        "\n",
        "\n",
        "# Generate a test dataset for convenience\n",
        "signal_test=np.random.normal(size=(int(num_samples/10),10),loc=0.5)\n",
        "background_test=np.random.normal(size=(int(num_samples/10),10),loc=0)\n",
        "\n",
        "# Configure for DataLoader\n",
        "data = torch.cat([torch.from_numpy(signal), torch.from_numpy(background)])\n",
        "labels = torch.from_numpy(np.append(np.ones(num_samples), np.zeros(num_samples))).to(torch.int64)\n",
        "\n",
        "\n",
        "data_test = torch.cat([torch.from_numpy(signal_test), torch.from_numpy(background_test)])\n",
        "labels_test = torch.from_numpy(np.append(np.ones(int(num_samples/10)), np.zeros(int(num_samples/10)))).to(torch.int64)\n",
        "\n",
        "\n",
        "dataset = TensorDataset(data, labels)\n",
        "test_set = TensorDataset(data_test, labels_test)"
      ]
    },
    {
      "cell_type": "markdown",
      "metadata": {
        "id": "vl8b9GQMmvt9"
      },
      "source": [
        "i) Perform logistic regression on this data to classify signal vs. background. Plot a ROC curve and report the AUC\n",
        "\n",
        "ii) Compare this against the Neyman-Pearson optimal classifier. Comment on your result.\n",
        "\n",
        "iii) Now change the width of the background from 1 to 1.5 and repeat parts (i) and (ii)"
      ]
    },
    {
      "cell_type": "code",
      "execution_count": 439,
      "metadata": {},
      "outputs": [],
      "source": [
        "# First, create logistic regression module\n",
        "\n",
        "class logistic_regression(torch.nn.Module): \n",
        "    def __init__(self, n_input, n_output):\n",
        "        super(logistic_regression, self).__init__()\n",
        "        self.linear = torch.nn.Linear(n_input, n_output)\n",
        "    def forward(self, x): \n",
        "        return torch.sigmoid(self.linear(x))\n",
        "\n",
        "\n",
        "# Now configure number of inputs and outputs. We have a binary classfier so \n",
        "\n",
        "n_inputs = 10\n",
        "n_outputs = 2\n",
        "\n",
        "log_reg_model = logistic_regression(n_input=n_inputs, n_output=n_outputs)\n",
        "log_reg_model.to(torch.float64)\n",
        "# Define our optimizer and loss fn\n",
        "\n",
        "optimizer = torch.optim.SGD(log_reg_model.parameters(), lr=0.01)\n",
        "criteria = torch.nn.CrossEntropyLoss()\n",
        "\n",
        "# Define params\n",
        "epochs = 100\n",
        "batch_size=100\n"
      ]
    },
    {
      "cell_type": "code",
      "execution_count": 440,
      "metadata": {},
      "outputs": [],
      "source": [
        "# Methods to train and test\n",
        "\n",
        "\n",
        "def binary_train(model, epoch_size, dataset, optimizer, loss_fn): \n",
        "    model.train()\n",
        "    dataloader = DataLoader(dataset=dataset, batch_size=100, shuffle=True)\n",
        "    for epoch in range(epoch_size):\n",
        "        for vectors, target in dataloader:\n",
        "            optimizer.zero_grad()\n",
        "            outputs = model(vectors)\n",
        "            loss = criteria(outputs, target)\n",
        "            loss.backward()\n",
        "            optimizer.step()\n",
        "# Create a method to test our model \n",
        "\n",
        "def test_model(model, test_dataset, dimension): \n",
        "    model.eval()\n",
        "    with torch.no_grad(): \n",
        "        correct = 0\n",
        "        total = 0\n",
        "        incorrect = 0\n",
        "        # Test every element in the dataset \n",
        "        for j, (data_arr, target_arr) in enumerate(test_dataset):\n",
        "            output_pred = model(data_arr)\n",
        "            # Choose which one is the most likely\n",
        "            num_guess = torch.argmax(output_pred, dim=dimension)\n",
        "            correct+=(num_guess==target_arr).sum().item()\n",
        "            total+=target_arr.numpy().size\n",
        "        print(\"Percent correct: \", correct/total)\n",
        "        \n",
        "\n",
        "def calc_roc(model, test_dataset):\n",
        "    model.eval()\n",
        "    y_true = []\n",
        "    y_score = []\n",
        "    with torch.no_grad():\n",
        "        for vector, label in test_dataset:\n",
        "            outputs = model(vector)\n",
        "            y_true.append(label.numpy())\n",
        "            y_score.append(outputs.numpy().squeeze()[1])\n",
        "    \n",
        "    fpr, tpr, thresholds = roc(y_true=y_true, y_score=y_score)\n",
        "    auc_score = auc(fpr, tpr)\n",
        "    \n",
        "    return fpr, tpr, auc_score\n",
        "\n",
        "\n",
        "def calc_roc_two(model, test_dataset):\n",
        "    model.eval()\n",
        "    y_true = []\n",
        "    y_score = []\n",
        "    with torch.no_grad():\n",
        "        for vector, label in test_dataset:\n",
        "            outputs = model(vector)\n",
        "            y_true.append(label.numpy())\n",
        "            y_score.append(outputs.numpy())\n",
        "    \n",
        "    fpr, tpr, thresholds = roc(y_true=y_true, y_score=y_score)\n",
        "    auc_score = auc(fpr, tpr)\n",
        "    \n",
        "    return fpr, tpr, auc_score"
      ]
    },
    {
      "cell_type": "code",
      "execution_count": 441,
      "metadata": {},
      "outputs": [],
      "source": [
        "# Train the model for 100 epochs\n",
        "\n",
        "binary_train(model=log_reg_model, epoch_size=100, dataset=dataset, optimizer=optimizer, loss_fn=criteria)"
      ]
    },
    {
      "cell_type": "code",
      "execution_count": 442,
      "metadata": {},
      "outputs": [
        {
          "name": "stdout",
          "output_type": "stream",
          "text": [
            "Percent correct:  0.7925\n",
            "0.875207\n"
          ]
        },
        {
          "data": {
            "image/png": "[encoded data removed]",
            "text/plain": [
              "<Figure size 640x480 with 1 Axes>"
            ]
          },
          "metadata": {},
          "output_type": "display_data"
        }
      ],
      "source": [
        "test_model(model=log_reg_model, test_dataset=test_set, dimension=0)\n",
        "\n",
        "log_fpr, log_tpr, auc_log = calc_roc(log_reg_model, test_set)\n",
        "\n",
        "plt.plot(log_fpr, log_tpr)\n",
        "print(auc_log)"
      ]
    },
    {
      "cell_type": "markdown",
      "metadata": {},
      "source": [
        "Using the Neyman-Pearson lemma, we expect that the theoretically optimal classifier takes the form of \n",
        "$$\\Lambda(x) = \\frac{P_1(x)}{P_0(x)} \\geq \\eta$$\n",
        "where $P_0, P_1$ are the distribution functions and $\\eta$ is the threshold."
      ]
    },
    {
      "cell_type": "code",
      "execution_count": 443,
      "metadata": {},
      "outputs": [
        {
          "data": {
            "image/png": "[encoded data removed]",
            "text/plain": [
              "<Figure size 640x480 with 1 Axes>"
            ]
          },
          "metadata": {},
          "output_type": "display_data"
        },
        {
          "name": "stdout",
          "output_type": "stream",
          "text": [
            "0.874976\n"
          ]
        }
      ],
      "source": [
        "# Use the Neyman-Pearson lemma to tell us the theoretically optimal, since we know a priori the distributions \n",
        "\n",
        "# takes 10-d x vector\n",
        "def lambda_fn(x):\n",
        "    return multivariate_normal(np.ones(10)*0.5).pdf(x)/multivariate_normal(np.zeros(10)).pdf(x)\n",
        "\n",
        "# This model is super simple, we calculate our predictions and get a ROC and AUC \n",
        "\n",
        "y_score_lambda = []\n",
        "\n",
        "for vector in data_test.numpy():\n",
        "    y_score_lambda.append(lambda_fn(vector))\n",
        "\n",
        "fpr_lambda, tpr_lambda, threshold = roc(y_true=labels_test.numpy(), y_score=y_score_lambda)\n",
        "auc_lambda = auc(fpr_lambda, tpr_lambda)\n",
        "\n",
        "plt.plot(fpr_lambda, tpr_lambda)\n",
        "plt.show()\n",
        "print(auc_lambda)\n"
      ]
    },
    {
      "cell_type": "markdown",
      "metadata": {},
      "source": [
        "As we can see, the theoretical 0.8654 isn't too far off from the obtained 0.8649"
      ]
    },
    {
      "cell_type": "markdown",
      "metadata": {},
      "source": [
        "Now, we do the same with the background spread out a bit more. "
      ]
    },
    {
      "cell_type": "code",
      "execution_count": 444,
      "metadata": {
        "id": "voRJIFvYmpzZ"
      },
      "outputs": [],
      "source": [
        "background=np.random.normal(size=(10000,10),loc=0,scale=1.5)\n",
        "\n",
        "background_test = np.random.normal(size=(int(num_samples/10), 10), loc=0, scale=3)\n",
        "\n",
        "# Configure for DataLoader\n",
        "data_torch = torch.cat([torch.from_numpy(signal), torch.from_numpy(background)])\n",
        "labels_torch = torch.from_numpy(np.append(np.ones(num_samples), np.zeros(num_samples))).to(torch.int64)\n",
        "\n",
        "\n",
        "data_test_torch = torch.cat([torch.from_numpy(signal_test), torch.from_numpy(background_test)])\n",
        "labels_test_torch = torch.from_numpy(np.append(np.ones(int(num_samples/10)), np.zeros(int(num_samples/10)))).to(torch.int64)\n",
        "\n",
        "\n",
        "dataset_spread = TensorDataset(data_torch, labels_torch)\n",
        "test_set_spread= TensorDataset(data_test_torch, labels_test_torch)\n"
      ]
    },
    {
      "cell_type": "code",
      "execution_count": 445,
      "metadata": {},
      "outputs": [],
      "source": [
        "# Train model\n",
        "\n",
        "log_reg_spread = logistic_regression(n_inputs, n_outputs)\n",
        "log_reg_spread.to(torch.float64)\n",
        "\n",
        "optimizer_spread = torch.optim.SGD(log_reg_spread.parameters(), lr=0.01)\n",
        "\n",
        "dataloader_spread = DataLoader(dataset=dataset_spread, batch_size=batch_size, shuffle=True)\n",
        "\n",
        "binary_train(model=log_reg_spread,epoch_size=epochs, dataset=dataset_spread, optimizer=optimizer_spread, loss_fn=criteria)\n"
      ]
    },
    {
      "cell_type": "code",
      "execution_count": 446,
      "metadata": {},
      "outputs": [
        {
          "name": "stdout",
          "output_type": "stream",
          "text": [
            "Percent correct:  0.7005\n",
            "0.688207\n"
          ]
        },
        {
          "data": {
            "image/png": "[encoded data removed]",
            "text/plain": [
              "<Figure size 640x480 with 1 Axes>"
            ]
          },
          "metadata": {},
          "output_type": "display_data"
        }
      ],
      "source": [
        "test_model(model=log_reg_spread, test_dataset=test_set_spread, dimension=0)\n",
        "\n",
        "log_fpr_spread, log_tpr_spread, auc_spread = calc_roc(log_reg_spread, test_set_spread)\n",
        "\n",
        "plt.plot(log_fpr_spread, log_tpr_spread)\n",
        "print(auc_spread)"
      ]
    },
    {
      "cell_type": "code",
      "execution_count": 447,
      "metadata": {},
      "outputs": [
        {
          "data": {
            "image/png": "[encoded data removed]",
            "text/plain": [
              "<Figure size 640x480 with 1 Axes>"
            ]
          },
          "metadata": {},
          "output_type": "display_data"
        },
        {
          "name": "stdout",
          "output_type": "stream",
          "text": [
            "0.9962\n"
          ]
        }
      ],
      "source": [
        "# Use the Neyman-Pearson lemma to tell us the theoretically optimal, since we know a priori the distributions \n",
        "\n",
        "# takes 10-d x vector\n",
        "def lambda_fn_spread(x):\n",
        "    return multivariate_normal(mean=np.ones(10)*0.5).pdf(x)/multivariate_normal(mean=np.zeros(10), cov=1.5).pdf(x)\n",
        "\n",
        "# This model is super simple, we calculate our predictions and get a ROC and AUC \n",
        "\n",
        "y_score_lambda_spread = []\n",
        "\n",
        "for vector in data_test_torch.numpy():\n",
        "    y_score_lambda_spread.append(lambda_fn_spread(vector))\n",
        "\n",
        "fpr_lambda_spread, tpr_lambda_spread, threshold = roc(y_true=labels_test_torch.numpy(), y_score=y_score_lambda_spread)\n",
        "auc_lambda_spread = auc(fpr_lambda_spread, tpr_lambda_spread)\n",
        "\n",
        "plt.plot(fpr_lambda_spread, tpr_lambda_spread)\n",
        "plt.show()\n",
        "print(auc_lambda_spread)"
      ]
    },
    {
      "cell_type": "markdown",
      "metadata": {},
      "source": [
        "From an intuitive standpoint, it makes sense that the logistic regression classifier performs worse—the decision threshold will now identify more points. However, for the optimal Neyman-Pearson classifier, the AUC improves probably because the background is more \"spread-out\" in a sense? I'm not entirely sure. \n"
      ]
    },
    {
      "cell_type": "markdown",
      "metadata": {
        "id": "6-CC-Z6onQCg"
      },
      "source": [
        "iv) Train another method (BDT or neural network) to classify signal vs. background. How does this compare against the Neyman-Pearson optimal result?"
      ]
    },
    {
      "cell_type": "code",
      "execution_count": 448,
      "metadata": {},
      "outputs": [],
      "source": [
        "# Now let's try a neural network\n",
        "\n",
        "import torch.nn as nn\n",
        "\n",
        "layer_size = 50\n",
        "vector_dim = 10\n",
        "\n",
        "nn_model = nn.Sequential(\n",
        "    nn.Linear(vector_dim, layer_size),\n",
        "    nn.Softmax(),\n",
        "    nn.Linear(layer_size, layer_size),\n",
        "    nn.Softmax(),\n",
        "    nn.Linear(50,2),\n",
        "    nn.Softmax()\n",
        ")\n",
        "nn_model.to(torch.float64)\n",
        "loss_fn = nn.CrossEntropyLoss()\n",
        "optimizer_nn = torch.optim.Adam(nn_model.parameters(), lr=0.01)\n",
        "\n",
        "# We'll continue to use the binary cross entropy loss function for now \n"
      ]
    },
    {
      "cell_type": "code",
      "execution_count": 449,
      "metadata": {},
      "outputs": [
        {
          "name": "stderr",
          "output_type": "stream",
          "text": [
            "C:\\Users\\Ali\\AppData\\Local\\Packages\\PythonSoftwareFoundation.Python.3.11_qbz5n2kfra8p0\\LocalCache\\local-packages\\Python311\\site-packages\\torch\\nn\\modules\\module.py:1736: UserWarning: Implicit dimension choice for softmax has been deprecated. Change the call to include dim=X as an argument.\n",
            "  return self._call_impl(*args, **kwargs)\n"
          ]
        }
      ],
      "source": [
        "# Train nn-model for our first case \n",
        "\n",
        "binary_train(model = nn_model, epoch_size=100, dataset=dataset, optimizer=optimizer_nn, loss_fn=loss_fn)\n"
      ]
    },
    {
      "cell_type": "code",
      "execution_count": 450,
      "metadata": {},
      "outputs": [
        {
          "name": "stdout",
          "output_type": "stream",
          "text": [
            "0.8550229999999999\n"
          ]
        },
        {
          "data": {
            "image/png": "[encoded data removed]",
            "text/plain": [
              "<Figure size 640x480 with 1 Axes>"
            ]
          },
          "metadata": {},
          "output_type": "display_data"
        }
      ],
      "source": [
        "fpr_nn, tpr_nn, auc_nn = calc_roc(nn_model, test_dataset=test_set)\n",
        "plt.plot(fpr_nn, tpr_nn)\n",
        "print(auc_nn)"
      ]
    },
    {
      "cell_type": "markdown",
      "metadata": {},
      "source": [
        "For our first case, we obtained a similar AUC. This is expected; we were already very close to optimal, and using a better method isn't going to get us any closer"
      ]
    },
    {
      "cell_type": "code",
      "execution_count": 451,
      "metadata": {},
      "outputs": [],
      "source": [
        "# For our more spreaded out model, we'll use the same architecture as before\n",
        "nn_model_spread = nn.Sequential(\n",
        "    nn.Linear(vector_dim, layer_size),\n",
        "    nn.Softmax(),\n",
        "    nn.Linear(layer_size, layer_size),\n",
        "    nn.Softmax(),\n",
        "    nn.Linear(50,2),\n",
        "    nn.Softmax()\n",
        ")\n",
        "\n",
        "nn_model_spread.to(torch.float64)\n",
        "loss_fn = nn.CrossEntropyLoss()\n",
        "optimizer_nn_spread = torch.optim.Adam(nn_model_spread.parameters(), lr=0.01)\n",
        "\n"
      ]
    },
    {
      "cell_type": "code",
      "execution_count": 452,
      "metadata": {},
      "outputs": [
        {
          "name": "stderr",
          "output_type": "stream",
          "text": [
            "C:\\Users\\Ali\\AppData\\Local\\Packages\\PythonSoftwareFoundation.Python.3.11_qbz5n2kfra8p0\\LocalCache\\local-packages\\Python311\\site-packages\\torch\\nn\\modules\\module.py:1736: UserWarning: Implicit dimension choice for softmax has been deprecated. Change the call to include dim=X as an argument.\n",
            "  return self._call_impl(*args, **kwargs)\n"
          ]
        }
      ],
      "source": [
        "binary_train(model=nn_model_spread, epoch_size=100, dataset=dataset_spread, optimizer=optimizer_nn_spread, loss_fn=loss_fn)"
      ]
    },
    {
      "cell_type": "code",
      "execution_count": 453,
      "metadata": {},
      "outputs": [
        {
          "name": "stdout",
          "output_type": "stream",
          "text": [
            "0.9692239999999999\n"
          ]
        },
        {
          "data": {
            "image/png": "[encoded data removed]",
            "text/plain": [
              "<Figure size 640x480 with 1 Axes>"
            ]
          },
          "metadata": {},
          "output_type": "display_data"
        }
      ],
      "source": [
        "fpr_nn_spread, tpr_nn_spread, auc_nn_spread = calc_roc(nn_model_spread, test_dataset=test_set_spread)\n",
        "plt.plot(fpr_nn_spread, tpr_nn_spread)\n",
        "print(auc_nn_spread)    "
      ]
    },
    {
      "cell_type": "markdown",
      "metadata": {},
      "source": [
        "I'm not sure why the neural network performed so much worse. Maybe it needs more epochs or more training points per iteration. Not sure. "
      ]
    },
    {
      "cell_type": "markdown",
      "metadata": {
        "id": "_YQJoCMXp1Ce"
      },
      "source": [
        "# Problem 2: MNIST example\n"
      ]
    },
    {
      "cell_type": "markdown",
      "metadata": {
        "id": "GZ938M3DnfeY"
      },
      "source": [
        "i) Design (handcraft) a single \"high level feature\" that classifies the 1 digit vs the 7 digit.\n",
        "\n",
        "ii) Train a CNN on the binary classification of 1's and 7's. How does your result compare to part (i)?"
      ]
    },
    {
      "cell_type": "markdown",
      "metadata": {},
      "source": [
        "One possible handcrafted feature I can think of is that 7's have a bar at the top, whereas 1's do not. Since our MNIST images are 28x28, we can imagine a classifier that classifies a 7 as a number that has more than 8 pixels in a row being higher than some threshold value. "
      ]
    },
    {
      "cell_type": "code",
      "execution_count": 454,
      "metadata": {},
      "outputs": [],
      "source": [
        "\n",
        "# Import MNIST dataset\n",
        "\n",
        "from torchvision import datasets\n",
        "import torchvision.transforms as T\n",
        "\n",
        "mnist_data = datasets.MNIST(root='data', train=True, transform = T.ToTensor(), download=False)\n",
        "\n",
        "# We'll filter our data set to only deal with 1s or 7s \n",
        "\n",
        "mnist_data_tensors=list(filter(lambda x: (x[1]==1 or x[1]==7), mnist_data))\n",
        "\n",
        "# This is very simple to do, so I'll pull it out of tensory space\n",
        "mnist_data = [[x[0].squeeze().numpy(),x[1]] for x in mnist_data_tensors]"
      ]
    },
    {
      "cell_type": "code",
      "execution_count": 455,
      "metadata": {},
      "outputs": [],
      "source": [
        "len_mnist = len(mnist_data)\n",
        "# We know we have 13007 samples to work with now \n",
        "\n",
        "# Here's our rather crude classifier based off of a high-level feature\n",
        "def is_seven(img): \n",
        "    for row in img:\n",
        "        num_bright = len([x for x in row if x>0.5])\n",
        "        if num_bright>8:\n",
        "            return True\n",
        "    return False\n"
      ]
    },
    {
      "cell_type": "markdown",
      "metadata": {},
      "source": [
        "It doens't make a lot of sense to have a ROC curve for this model since it's purely binary; it's either a 1 or a 0, with no probability in between. But you could vary the `num_bright` threshold to increase or decrease the level of recognition. "
      ]
    },
    {
      "cell_type": "code",
      "execution_count": 456,
      "metadata": {},
      "outputs": [],
      "source": [
        "correct = 0\n",
        "incorrect=0\n",
        "for img in mnist_data:\n",
        "    if is_seven(img[0]) == (img[1]==7):\n",
        "        correct+=1\n",
        "    else:\n",
        "        incorrect+=1"
      ]
    },
    {
      "cell_type": "code",
      "execution_count": 457,
      "metadata": {},
      "outputs": [
        {
          "name": "stdout",
          "output_type": "stream",
          "text": [
            "0.9429537941108633\n"
          ]
        }
      ],
      "source": [
        "print(correct/len_mnist)"
      ]
    },
    {
      "cell_type": "markdown",
      "metadata": {},
      "source": [
        "Frankly, I'm surprised such a crude metric got such a relatively high result."
      ]
    },
    {
      "cell_type": "markdown",
      "metadata": {},
      "source": [
        "![\"sometimes_my_genius_is_almost_frightening.png\"](./clarkson.jpg)"
      ]
    },
    {
      "cell_type": "markdown",
      "metadata": {},
      "source": [
        "In any case, we can now do the same with a neural network. We'll use the same neural network we've been using before, with some modifications for the MNIST dataset. "
      ]
    },
    {
      "cell_type": "code",
      "execution_count": 458,
      "metadata": {},
      "outputs": [],
      "source": [
        "mnist_data_tensors=[[x[0], torch.tensor(0) if x[1]==1 else torch.tensor(1)] for x in mnist_data_tensors]\n",
        "\n",
        "mnist_train, mnist_test = torch.utils.data.random_split(mnist_data_tensors, [10000,3007])"
      ]
    },
    {
      "cell_type": "code",
      "execution_count": 459,
      "metadata": {},
      "outputs": [
        {
          "name": "stdout",
          "output_type": "stream",
          "text": [
            "<torch.utils.data.dataset.Subset object at 0x000002895EF91550>\n"
          ]
        }
      ],
      "source": [
        "dim_mnist = 28\n",
        "nn_mnist = nn.Sequential(\n",
        "    nn.Flatten(),\n",
        "    nn.Linear(dim_mnist**2, layer_size),\n",
        "    nn.Softmax(),\n",
        "    nn.Linear(layer_size, layer_size),\n",
        "    nn.Softmax(),\n",
        "    nn.Linear(layer_size,2),\n",
        "    nn.Softmax()\n",
        ")\n",
        "\n",
        "optimizer_nn_mnist = torch.optim.Adam(nn_mnist.parameters(), lr=0.01)\n",
        "loss_fn = nn.CrossEntropyLoss()\n",
        "\n",
        "print(mnist_train)"
      ]
    },
    {
      "cell_type": "code",
      "execution_count": 460,
      "metadata": {},
      "outputs": [
        {
          "name": "stderr",
          "output_type": "stream",
          "text": [
            "C:\\Users\\Ali\\AppData\\Local\\Packages\\PythonSoftwareFoundation.Python.3.11_qbz5n2kfra8p0\\LocalCache\\local-packages\\Python311\\site-packages\\torch\\nn\\modules\\module.py:1736: UserWarning: Implicit dimension choice for softmax has been deprecated. Change the call to include dim=X as an argument.\n",
            "  return self._call_impl(*args, **kwargs)\n"
          ]
        }
      ],
      "source": [
        "binary_train(model=nn_mnist, epoch_size=100, dataset=mnist_train, optimizer=optimizer_nn_mnist, loss_fn=loss_fn)"
      ]
    },
    {
      "cell_type": "code",
      "execution_count": 461,
      "metadata": {},
      "outputs": [
        {
          "name": "stdout",
          "output_type": "stream",
          "text": [
            "0.9973650828521772\n"
          ]
        },
        {
          "data": {
            "image/png": "[encoded data removed]",
            "text/plain": [
              "<Figure size 640x480 with 1 Axes>"
            ]
          },
          "metadata": {},
          "output_type": "display_data"
        }
      ],
      "source": [
        "\n",
        "mnist_fpr, mnist_tpr, mnist_auc = calc_roc(nn_mnist, mnist_test)\n",
        "plt.plot(mnist_fpr,mnist_tpr)\n",
        "print(mnist_auc)\n",
        "plt.show()\n"
      ]
    },
    {
      "cell_type": "markdown",
      "metadata": {},
      "source": [
        "Obviously, the neural network did a much better job. "
      ]
    },
    {
      "cell_type": "markdown",
      "metadata": {
        "id": "9JxJRq5Sn4x7"
      },
      "source": [
        "# Problem 3: Top tagging example"
      ]
    },
    {
      "cell_type": "code",
      "execution_count": 462,
      "metadata": {
        "colab": {
          "base_uri": "https://localhost:8080/"
        },
        "id": "vF1e_po3n3RH",
        "outputId": "02bfdc6c-a04f-44dd-bbd9-7cba5b98883d"
      },
      "outputs": [],
      "source": [
        "# # First, download a set of high level features I've pre-computed for the top tagging dataset:\n",
        "\n",
        "# if not os.path.exists('toptagging_HLF_train.npy'):\n",
        "#   !wget --no-check-certificate 'https://drive.google.com/uc?export=download&id=10gppjSzIXZmMIrF4Oo5_gsyrTVucdXBa' -O 'toptagging_HLF_train.npy'\n",
        "# if not os.path.exists('toptagging_HLF_val.npy'):\n",
        "#   !wget --no-check-certificate 'https://drive.google.com/uc?export=download&id=1dSYGrFHOjBEKBu0mZ-7hXzEp4dBG3uPk' -O 'toptagging_HLF_val.npy'\n",
        "# if not os.path.exists('toptagging_HLF_test.npy'):\n",
        "#   !wget --no-check-certificate 'https://drive.google.com/uc?export=download&id=1gpPjB90uQuaTjYm-89MhhIT57T6gmv8X' -O 'toptagging_HLF_test.npy'\n"
      ]
    },
    {
      "cell_type": "code",
      "execution_count": 463,
      "metadata": {
        "id": "NbNDIL6rnOS_"
      },
      "outputs": [],
      "source": [
        "hlf_train=np.load('toptagging_HLF_train.npy')\n",
        "hlf_val=np.load('toptagging_HLF_val.npy')\n",
        "hlf_test=np.load('toptagging_HLF_test.npy')"
      ]
    },
    {
      "cell_type": "code",
      "execution_count": 464,
      "metadata": {
        "colab": {
          "base_uri": "https://localhost:8080/"
        },
        "id": "MpscF9DWpk2a",
        "outputId": "56e62c59-a8af-4987-d4a5-0cfb77bea233"
      },
      "outputs": [
        {
          "data": {
            "text/plain": [
              "((1211000, 4), (403000, 4), (404000, 4))"
            ]
          },
          "execution_count": 464,
          "metadata": {},
          "output_type": "execute_result"
        }
      ],
      "source": [
        "# The features are (mjet,mwcandidate,tau32,label)\n",
        "\n",
        "hlf_train.shape,hlf_val.shape,hlf_test.shape"
      ]
    },
    {
      "cell_type": "code",
      "execution_count": 465,
      "metadata": {
        "colab": {
          "base_uri": "https://localhost:8080/",
          "height": 320
        },
        "id": "oAfEKaV2pnP-",
        "outputId": "7a16ea86-e703-443b-c4f1-fed3aa37aa0b"
      },
      "outputs": [
        {
          "data": {
            "text/plain": [
              "Text(0.5, 0, 'tau32')"
            ]
          },
          "execution_count": 465,
          "metadata": {},
          "output_type": "execute_result"
        },
        {
          "data": {
            "image/png": "[encoded data removed]",
            "text/plain": [
              "<Figure size 2000x500 with 3 Axes>"
            ]
          },
          "metadata": {},
          "output_type": "display_data"
        }
      ],
      "source": [
        "fig,ax=plt.subplots(1,3,figsize=(20,5))\n",
        "ax[0].hist(hlf_train[:,0][hlf_train[:,-1]==0])\n",
        "ax[0].hist(hlf_train[:,0][hlf_train[:,-1]==1])\n",
        "ax[0].set_xlabel('mjet')\n",
        "ax[1].hist(hlf_train[:,1][hlf_train[:,-1]==0])\n",
        "ax[1].hist(hlf_train[:,1][hlf_train[:,-1]==1])\n",
        "ax[1].set_xlabel('mwcandidate')\n",
        "ax[2].hist(hlf_train[:,2][hlf_train[:,-1]==0])\n",
        "ax[2].hist(hlf_train[:,2][hlf_train[:,-1]==1])\n",
        "ax[2].set_xlabel('tau32')"
      ]
    },
    {
      "cell_type": "markdown",
      "metadata": {
        "id": "ak6Rq8ceqCJ8"
      },
      "source": [
        "i) Consider a simple cut-based classifier for tops (label=1) vs QCD (label=0) using each feature separately. Which feature gives you the best classification performance? Plot the ROC curve for this feature.\n",
        "\n",
        "ii) Now add a second feature to the best feature that you found in (i). Which second feature gives you the best performance? Scan over the cuts and plot the family of ROC curves. Report the best rejection factor at 30% signal efficiency (R30). How much better is it than part (i)?\n",
        "\n",
        "iii) Finally, consider a cut-based classifier based on all 3 features and repeat part (ii).\n",
        "\n",
        "iv) Now train a BDT or Neural Network on the HLFs. How does this compare to what you found above?"
      ]
    },
    {
      "cell_type": "code",
      "execution_count": 466,
      "metadata": {
        "id": "tXV0_6CnppjZ"
      },
      "outputs": [
        {
          "name": "stdout",
          "output_type": "stream",
          "text": [
            "For feature 0 we obtain an AUC score of 0.9012770469240124 \n",
            "For feature 1 we obtain an AUC score of 0.8417561295691697 \n",
            "For feature 2 we obtain an AUC score of 0.1497104858843864 \n",
            "0.9012770469240124\n"
          ]
        },
        {
          "data": {
            "text/plain": [
              "<function matplotlib.pyplot.show(close=None, block=None)>"
            ]
          },
          "execution_count": 466,
          "metadata": {},
          "output_type": "execute_result"
        },
        {
          "data": {
            "image/png": "[encoded data removed]",
            "text/plain": [
              "<Figure size 640x480 with 1 Axes>"
            ]
          },
          "metadata": {},
          "output_type": "display_data"
        }
      ],
      "source": [
        "\n",
        "# In essence, for a cut the work is already done for us. All we need to do is plot ROC curves based off of the raw data, where each datum is its own likelihood score (non-normalized of course)\n",
        "\n",
        "\n",
        "# Reducing the sample size for now, since we really don't need all this for simple cutting thresholding\n",
        "hlf_train = hlf_train[:10000]\n",
        "\n",
        "auc_best = 0\n",
        "tpr_best = []\n",
        "fpr_best = []\n",
        "for i in range(3): \n",
        "    fpr_i, tpr_i, thresholds = roc(y_true=hlf_train[:,3], y_score=hlf_train[:,i])\n",
        "    auc_i = auc(fpr_i, tpr_i)\n",
        "    print(f\"For feature {i} we obtain an AUC score of {auc_i} \")\n",
        "    if auc_i>auc_best: \n",
        "        auc_best=auc_i\n",
        "        tpr_best=tpr_i\n",
        "        fpr_best=fpr_i\n",
        "\n",
        "plt.plot(fpr_best, tpr_best)\n",
        "print(auc_best)\n",
        "plt.xlabel(\"FPR\")\n",
        "plt.ylabel(\"TPR\")\n",
        "plt.title(\"mjet ROC curve\")\n",
        "plt.show\n",
        "    \n"
      ]
    },
    {
      "cell_type": "markdown",
      "metadata": {},
      "source": [
        "Visually, this makes sense; the `mjet` metric is the most separated, so it would score the best on this simple cut metric.\n",
        "\n",
        "Now let's add the other two metrics into the mix. "
      ]
    },
    {
      "cell_type": "code",
      "execution_count": 467,
      "metadata": {},
      "outputs": [],
      "source": [
        "\n",
        "def return_fpr_tpr (prediction, label):\n",
        "    positives = prediction==1\n",
        "    negatives = prediction==0\n",
        "    true_pos = labels==1\n",
        "    true_neg = labels==0\n",
        "    \n",
        "    tp = (positives) & (true_pos)\n",
        "    tn = (negatives) & (true_neg)\n",
        "    fp = (positives) & (true_neg)\n",
        "    fn = (negatives) & (true_pos)\n",
        "    \n",
        "    tpr = sum(tp)/(sum(tp)+sum(fn))\n",
        "    fpr = sum(fp)/(sum(fp)+sum(tn))\n",
        "    \n",
        "    return fpr, tpr\n"
      ]
    },
    {
      "cell_type": "code",
      "execution_count": 468,
      "metadata": {},
      "outputs": [],
      "source": [
        "# Now, we want to scan over the family of ROC curves and find out which feature is best \n",
        "\n",
        "\n",
        "mjet_max = np.max(hlf_train[:,0])\n",
        "mwcandidate_max = np.max(hlf_train[:,1])\n",
        "tau32_max = np.max(hlf_train[:,2])\n",
        "\n",
        "# Range different decision thresholds for each to create ROC curves\n",
        "\n",
        "mjet_range = np.linspace(0,mjet_max, 25)\n",
        "mwcandidate_range = np.linspace(0,mwcandidate_max, 25)\n",
        "tau32_range = np.linspace(0, tau32_max, 25)\n",
        "\n",
        "#Admittedly my confidence in this part is quite low lol... I think conceptually I'm doing the right thing??\n",
        "\n",
        "# For first case\n",
        "\n",
        "fpr_one = []\n",
        "tpr_one = []\n",
        "\n",
        "\n",
        "labels = hlf_train[:,3]\n",
        "\n",
        "\n",
        "for i, mjet_threshold in enumerate(mjet_range):\n",
        "    for mwcandidate_threshold in mwcandidate_range:\n",
        "        prediction = np.array((hlf_train[:,0]>mjet_threshold) & (hlf_train[:,1]>mwcandidate_threshold))\n",
        "        \n",
        "        fpr, tpr = return_fpr_tpr(prediction=prediction, label=labels)\n",
        "        \n",
        "        fpr_one.append(fpr)\n",
        "        tpr_one.append(tpr)\n",
        "\n"
      ]
    },
    {
      "cell_type": "code",
      "execution_count": 469,
      "metadata": {},
      "outputs": [
        {
          "name": "stdout",
          "output_type": "stream",
          "text": [
            "0.8937719656231996\n"
          ]
        },
        {
          "data": {
            "image/png": "[encoded data removed]",
            "text/plain": [
              "<Figure size 640x480 with 1 Axes>"
            ]
          },
          "metadata": {},
          "output_type": "display_data"
        }
      ],
      "source": [
        "fpr_one, tpr_one = zip(*sorted(zip(fpr_one, tpr_one)))\n",
        "\n",
        "auc_one = auc(fpr_one,tpr_one)\n",
        "plt.plot(fpr_one, tpr_one)\n",
        "plt.xlabel(\"FPR\")\n",
        "plt.ylabel(\"TPR\")\n",
        "plt.title(\"ROC Curve for `mjet` and `mwcandidate`\")\n",
        "print(auc_one)"
      ]
    },
    {
      "cell_type": "code",
      "execution_count": 470,
      "metadata": {},
      "outputs": [],
      "source": [
        "# Similar to the previous part, let's do the same with the mjet and tau32\n",
        "\n",
        "# We use a flipped decision boundary for tau32, because the distribution classification itself is flipped \n",
        "fpr_two = []\n",
        "tpr_two = []\n",
        "for i, mjet_threshold in enumerate(mjet_range):\n",
        "    for tau32_threshold in tau32_range:\n",
        "        prediction = np.array((hlf_train[:,0]>mjet_threshold) & (hlf_train[:,2]<tau32_threshold))\n",
        "        \n",
        "        fpr, tpr =return_fpr_tpr(prediction=prediction, label=labels)\n",
        "        \n",
        "        fpr_two.append(fpr)\n",
        "        tpr_two.append(tpr)"
      ]
    },
    {
      "cell_type": "code",
      "execution_count": 471,
      "metadata": {},
      "outputs": [
        {
          "name": "stdout",
          "output_type": "stream",
          "text": [
            "0.9074944185711541\n"
          ]
        },
        {
          "data": {
            "image/png": "[encoded data removed]",
            "text/plain": [
              "<Figure size 640x480 with 1 Axes>"
            ]
          },
          "metadata": {},
          "output_type": "display_data"
        }
      ],
      "source": [
        "fpr_two, tpr_two = zip(*sorted(zip(fpr_two, tpr_two)))\n",
        "\n",
        "auc_two = auc(fpr_two,tpr_two)\n",
        "plt.plot(fpr_two, tpr_two)\n",
        "plt.xlabel(\"FPR\")\n",
        "plt.ylabel(\"TPR\")\n",
        "plt.title(\"ROC Curve for `mjet` and `tau32`\")\n",
        "print(auc_two)"
      ]
    },
    {
      "cell_type": "markdown",
      "metadata": {},
      "source": [
        "As we can see, it performs slightly worse in the second case, and slight better in the third. I'm not entirely sure if I'm doing these ROC curves correctly; I'm varying the thresholds to see the TPR or FPR. One could also approach it by fixing a threshold for the `mjet`, and then varying the threshold for the `mw` and `tau32` parameters. \n",
        "\n",
        "Now, let's do all three and get a ROC curve"
      ]
    },
    {
      "cell_type": "code",
      "execution_count": 472,
      "metadata": {},
      "outputs": [],
      "source": [
        "# Now, do the same for all three\n",
        "\n",
        "\n",
        "fpr_all = []\n",
        "tpr_all = []\n",
        "for i, mjet_threshold in enumerate(mjet_range):\n",
        "    for tau32_threshold in tau32_range:\n",
        "        for mw_threshold in mwcandidate_range:\n",
        "            prediction = np.array((hlf_train[:,0]>mjet_threshold) & (hlf_train[:,2]<tau32_threshold) & (hlf_train[:,1]>mw_threshold))\n",
        "            \n",
        "            fpr, tpr =return_fpr_tpr(prediction=prediction, label=labels)\n",
        "            \n",
        "            fpr_all.append(fpr)\n",
        "            tpr_all.append(tpr)\n"
      ]
    },
    {
      "cell_type": "code",
      "execution_count": 473,
      "metadata": {},
      "outputs": [
        {
          "name": "stdout",
          "output_type": "stream",
          "text": [
            "0.9024081764931821\n"
          ]
        },
        {
          "data": {
            "text/plain": [
              "[<matplotlib.lines.Line2D at 0x28961e7de50>]"
            ]
          },
          "execution_count": 473,
          "metadata": {},
          "output_type": "execute_result"
        },
        {
          "data": {
            "image/png": "[encoded data removed]",
            "text/plain": [
              "<Figure size 640x480 with 1 Axes>"
            ]
          },
          "metadata": {},
          "output_type": "display_data"
        }
      ],
      "source": [
        "fpr_all, tpr_all = zip(*sorted(zip(fpr_all, tpr_all)))\n",
        "auc_all = auc(fpr_all, tpr_all)\n",
        "print(auc_all)\n",
        "plt.plot(fpr_all, tpr_all)"
      ]
    },
    {
      "cell_type": "markdown",
      "metadata": {},
      "source": [
        "There's not much more to be gained, so we're getting the same AUC. \n",
        "\n",
        "Now, let's train a basic neural net to perform the same task. "
      ]
    },
    {
      "cell_type": "code",
      "execution_count": 474,
      "metadata": {},
      "outputs": [],
      "source": [
        "# Finally train binary classifier\n",
        "\n",
        "label_top_tag = hlf_train[:,3]\n",
        "data_top_tag = hlf_train[:,:3]\n",
        "\n",
        "top_tag_datset = TensorDataset(torch.from_numpy(data_top_tag),torch.from_numpy(label_top_tag).to(torch.int64))"
      ]
    },
    {
      "cell_type": "code",
      "execution_count": 475,
      "metadata": {},
      "outputs": [],
      "source": [
        "nn_model_top_tagging = nn.Sequential(\n",
        "    nn.Linear(3,layer_size),\n",
        "    nn.Softmax(),\n",
        "    nn.Linear(layer_size,layer_size),\n",
        "    nn.Softmax(),\n",
        "    nn.Linear(layer_size,2),\n",
        "    nn.Softmax()\n",
        ")\n",
        "nn_model_top_tagging.to(torch.float64)\n",
        "\n",
        "loss_fn = nn.CrossEntropyLoss()\n",
        "loss_fn.to(torch.float64)\n",
        "optimizer_nn_top_tag = torch.optim.Adam(nn_model_top_tagging.parameters(),lr=0.001)\n"
      ]
    },
    {
      "cell_type": "code",
      "execution_count": 476,
      "metadata": {},
      "outputs": [
        {
          "name": "stderr",
          "output_type": "stream",
          "text": [
            "C:\\Users\\Ali\\AppData\\Local\\Packages\\PythonSoftwareFoundation.Python.3.11_qbz5n2kfra8p0\\LocalCache\\local-packages\\Python311\\site-packages\\torch\\nn\\modules\\module.py:1736: UserWarning: Implicit dimension choice for softmax has been deprecated. Change the call to include dim=X as an argument.\n",
            "  return self._call_impl(*args, **kwargs)\n"
          ]
        }
      ],
      "source": [
        "binary_train(model=nn_model_top_tagging, epoch_size=100, dataset=top_tag_datset, optimizer=optimizer_nn_top_tag, loss_fn=loss_fn)"
      ]
    },
    {
      "cell_type": "code",
      "execution_count": 477,
      "metadata": {},
      "outputs": [
        {
          "name": "stdout",
          "output_type": "stream",
          "text": [
            "0.9356522469752256\n"
          ]
        },
        {
          "data": {
            "image/png": "[encoded data removed]",
            "text/plain": [
              "<Figure size 640x480 with 1 Axes>"
            ]
          },
          "metadata": {},
          "output_type": "display_data"
        }
      ],
      "source": [
        "hlf_test = hlf_test[:10000]\n",
        "hlf_test_tensor = TensorDataset(torch.from_numpy(hlf_test[:,:3]),torch.from_numpy(hlf_test[:,3]).to(torch.int64))\n",
        "\n",
        "fpr_nn, tpr_nn, auc_nn = calc_roc(nn_model_top_tagging, hlf_test_tensor)\n",
        "\n",
        "plt.plot(fpr_nn, tpr_nn)\n",
        "print(auc_nn)"
      ]
    },
    {
      "cell_type": "markdown",
      "metadata": {},
      "source": [
        "As we can see, we got much better performance, with AUC=0.93."
      ]
    },
    {
      "cell_type": "markdown",
      "metadata": {},
      "source": []
    },
    {
      "cell_type": "markdown",
      "metadata": {},
      "source": [
        "# Appendix\n",
        "This was an attempt at making my own ROC curve algorithm. It worked, but I could fix up the indices to make it efficient so that I'm not rerunning the vector through the model every time. "
      ]
    },
    {
      "cell_type": "code",
      "execution_count": 478,
      "metadata": {},
      "outputs": [],
      "source": [
        "\n",
        "# I know there's probably some library for this but I wanted to code this myself, because I wanted to understand how ROC curves worked and to prove that to myself, I wanted to code one \n",
        "\n",
        "# It was a good exercise but I would reindex to not have to predict every time I want to calculate a new threshold lol\n",
        "\n",
        "def calculate_roc(model, test_dataset):\n",
        "    model.eval()\n",
        "    with torch.no_grad():\n",
        "        threshold_arr = np.linspace(0,0.99, 50)\n",
        "        tpr_arr = []\n",
        "        fpr_arr = []\n",
        "        for threshold in threshold_arr:\n",
        "            false_positive = 0\n",
        "            true_positive = 0\n",
        "            total_positive = 0\n",
        "            total_negative = 0\n",
        "            for j, (vector, target) in enumerate(test_dataset): \n",
        "                output_pred = model(vector)\n",
        "                pred = 1 if output_pred.numpy()[1]>threshold else 0\n",
        "                if pred==1 and target.numpy()==0:\n",
        "                    # False positive\n",
        "                    false_positive+=1\n",
        "                    total_negative+=1\n",
        "                if pred ==1 and target.numpy()==1: \n",
        "                    #true positive\n",
        "                    true_positive+=1\n",
        "                    total_positive+=1\n",
        "                if pred == 0 and target.numpy() == 0:\n",
        "                    #true negative\n",
        "                    total_negative+=1\n",
        "                if pred == 0 and target.numpy() ==1:\n",
        "                    #false negative\n",
        "                    total_positive+=1\n",
        "                # Check if this prediction is correct or not \n",
        "            tpr = true_positive/total_positive\n",
        "            fpr = false_positive/total_negative\n",
        "            tpr_arr.append(tpr)\n",
        "            fpr_arr.append(fpr)\n",
        "        auc = np.trapz(y=tpr_arr, x=fpr_arr)\n",
        "        print(auc)\n",
        "        return auc, [tpr_arr, fpr_arr]"
      ]
    }
  ],
  "metadata": {
    "colab": {
      "provenance": []
    },
    "kernelspec": {
      "display_name": "Python 3",
      "name": "python3"
    },
    "language_info": {
      "codemirror_mode": {
        "name": "ipython",
        "version": 3
      },
      "file_extension": ".py",
      "mimetype": "text/x-python",
      "name": "python",
      "nbconvert_exporter": "python",
      "pygments_lexer": "ipython3",
      "version": "3.11.9"
    }
  },
  "nbformat": 4,
  "nbformat_minor": 0
}
